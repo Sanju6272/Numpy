{
 "cells": [
  {
   "cell_type": "markdown",
   "id": "911944cf",
   "metadata": {},
   "source": [
    "# Terrorism Day\n",
    "Problem Statement :\n",
    "Find the number of attack held between day 10 and day 20?(ignoring the year and month)(including both day)\n",
    "Print count of NumberOFAttack as integer value."
   ]
  },
  {
   "cell_type": "code",
   "execution_count": 4,
   "id": "541748ca",
   "metadata": {},
   "outputs": [
    {
     "name": "stdout",
     "output_type": "stream",
     "text": [
      "66330\n"
     ]
    }
   ],
   "source": [
    "import csv\n",
    "import numpy as np\n",
    "path = 'terrorismData.csv'\n",
    "with open(path, encoding = 'ISO-8859-1') as file_obj:\n",
    "    csvData = csv.DictReader(file_obj)\n",
    "    days = []\n",
    "    for row in csvData:\n",
    "        days.append(row['Day'])\n",
    "np_days = np.array(days, dtype = 'float')\n",
    "np_days = np_days[(np_days >= 10) & (np_days <= 20)]\n",
    "print(np_days.shape[0])\n"
   ]
  },
  {
   "cell_type": "markdown",
   "id": "39f67243",
   "metadata": {},
   "source": [
    "# Terrorism Date\n",
    "Problem Statement :\n",
    "Find the number of attack held between 1 Jan 2010 and 31 Jan 2010?(including both date).\n",
    "Note Ignore the case where day is 0\n",
    "Print count of NumberOFAttack as integer value.\n",
    "Output Format :\n",
    "count"
   ]
  },
  {
   "cell_type": "code",
   "execution_count": 6,
   "id": "a9cd321b",
   "metadata": {},
   "outputs": [
    {
     "name": "stdout",
     "output_type": "stream",
     "text": [
      "271\n"
     ]
    }
   ],
   "source": [
    "import csv\n",
    "import numpy as np\n",
    "path = 'terrorismData.csv'\n",
    "with open(path,encoding = 'ISO-8859-1') as file_obj:\n",
    "    file_data=csv.DictReader(file_obj,skipinitialspace=True)\n",
    "    \n",
    "    day=[]\n",
    "    for row in file_data:\n",
    "        if(row['Month']=='1' and row['Year']=='2010'):\n",
    "            day.append(row['Day'])\n",
    "    \n",
    "    np_day=np.array(day,dtype=float)\n",
    "    np_day=np.array(np_day,dtype=int)\n",
    "    np_day=np_day[np_day!=0]\n",
    "    print(np_day.shape[0])"
   ]
  },
  {
   "cell_type": "markdown",
   "id": "c104d3ab",
   "metadata": {},
   "source": [
    "# Terror Casualty Attack\n",
    "Problem Statement :\n",
    "As we knew the Kargil ( in Jammu and Kashmir) War that took place between May 1999 and July 1999 (3 Months) ,so there was a huge conflict in Kashmir Valley during this period.\n",
    "In this dataset, there is no information regarding the war between the two countries to find out the casualty during the war.\n",
    "So find out the attack in this period in which maximum casualties happened.\n",
    "Print the count of casualties (as integer), city in which that attack happened and name of attack group.\n",
    "Note : Casualty = Killed + Wounded.Fill the empty value in killed or wounded feature to 0.\n",
    "Output Format :\n",
    "Casualty City TerroristGroup"
   ]
  },
  {
   "cell_type": "code",
   "execution_count": 9,
   "id": "0de69765",
   "metadata": {},
   "outputs": [
    {
     "name": "stdout",
     "output_type": "stream",
     "text": [
      "22 Kargil District Separatists\n"
     ]
    }
   ],
   "source": [
    "import csv\n",
    "import numpy as np\n",
    "\n",
    "with open('terrorismData.csv', encoding='ISO-8859-1') as file_obj:\n",
    "    file_data=csv.DictReader(file_obj)\n",
    "    \n",
    "    killed=[]\n",
    "    wounded=[]\n",
    "    group=[]\n",
    "    city=[]\n",
    "    \n",
    "    for row in file_data:\n",
    "        if(row['Year']=='1999'):\n",
    "            if(row['Month']=='5' or row['Month']=='6' or row['Month']=='7'):\n",
    "                if(row['City']!='Unknown' and row['Group']!='Unknown' and row['State']=='Jammu and Kashmir'):\n",
    "                    killed.append(row['Killed'])\n",
    "                    wounded.append(row['Wounded'])\n",
    "                    group.append(row['Group'])\n",
    "                    city.append(row['City'])\n",
    "    \n",
    "    np_killed=np.array(killed)\n",
    "    np_wounded=np.array(wounded)\n",
    "    np_group=np.array(group)\n",
    "    np_city=np.array(city)\n",
    "    \n",
    "    np_killed[np_killed=='']='0.0'\n",
    "    np_wounded[np_wounded=='']='0.0'\n",
    "    \n",
    "    np_killed=np.array(np_killed,dtype=float)\n",
    "    np_wounded=np.array(np_wounded,dtype=float)\n",
    "    \n",
    "    np_casualties=np.array(np_killed+np_wounded,dtype=float)\n",
    "    \n",
    "    np_casualties=np.array(np_casualties,dtype=int)\n",
    "    \n",
    "    ind = np_casualties.argmax()\n",
    "    \n",
    "    print(np_casualties[ind], np_city[ind], np_group[ind])\n",
    "    "
   ]
  },
  {
   "cell_type": "markdown",
   "id": "c5489603",
   "metadata": {},
   "source": [
    "# Terror Casualty Red\n",
    "Problem Statement :\n",
    "Find the casualty in the Red Corridor States ? Mainly Red corridor states include Jharkhand, Odisha, Andhra Pradesh, and Chhattisgarh.\n",
    "Note: Casualty=Killed +Wounded\n",
    "Print count of Casualty as integer value.\n",
    "Output Format :\n",
    "Count\n"
   ]
  },
  {
   "cell_type": "code",
   "execution_count": 10,
   "id": "98223769",
   "metadata": {},
   "outputs": [
    {
     "name": "stdout",
     "output_type": "stream",
     "text": [
      "5628\n"
     ]
    }
   ],
   "source": [
    "import csv\n",
    "import numpy as np\n",
    "\n",
    "with open('terrorismData.csv',encoding='ISO-8859-1') as file_obj:\n",
    "    file_data=csv.DictReader(file_obj,skipinitialspace=True)\n",
    "    \n",
    "    killed=[]\n",
    "    wounded=[]\n",
    "    \n",
    "    for row in file_data:\n",
    "        if(row['State']=='Jharkhand' or row['State']=='Odisha' or row['State']=='Andhra Pradesh' or row['State']=='Chhattisgarh'):\n",
    "            killed.append(row['Killed'])\n",
    "            wounded.append(row['Wounded'])\n",
    "            \n",
    "    np_killed=np.array(killed)\n",
    "    np_wounded=np.array(wounded)\n",
    "    \n",
    "    np_killed[np_killed=='']='0.0'\n",
    "    np_wounded[np_wounded=='']='0.0'\n",
    "    \n",
    "    np_killed=np.array(np_killed,dtype=float)\n",
    "    np_wounded=np.array(np_wounded,dtype=float)\n",
    "    \n",
    "    np_killed=np.array(np_killed,dtype=int)\n",
    "    np_wounded=np.array(np_wounded,dtype=int)\n",
    "    \n",
    "    np_casualty=np.array(np_killed+np_wounded,dtype=int)\n",
    "    print(np_casualty.sum())"
   ]
  },
  {
   "cell_type": "markdown",
   "id": "8f30d1c5",
   "metadata": {},
   "source": [
    "# Terror City Casualty\n",
    "Problem Statement :\n",
    "Find top 5 Indian Cities which has most number of casualties ?\n",
    "Print top 5 cities along with total casualties in that city. Print count of Casualty as integer value.\n",
    "Note: Ignoring the City which is Unknown.\n",
    "Casualty = Killed + Wounded.\n",
    "Output Format :\n",
    "city_1 casualty_1\n",
    "city_2 casualty_2\n",
    "city_3 casualty_3\n",
    "city_4 casualty_4\n",
    "city_5 casualty_5\n"
   ]
  },
  {
   "cell_type": "code",
   "execution_count": 11,
   "id": "0b649f56",
   "metadata": {},
   "outputs": [
    {
     "name": "stdout",
     "output_type": "stream",
     "text": [
      "Srinagar 3134\n",
      "New Delhi 2095\n",
      "Mumbai 2016\n",
      "Jammu 1119\n",
      "Guwahati 822\n"
     ]
    }
   ],
   "source": [
    "import numpy as np\n",
    "import csv\n",
    "path = 'terrorismData.csv'\n",
    "casualty = []\n",
    "city = []\n",
    "with open(path, 'r', encoding='ISO-8859-1') as data:\n",
    "    reader = csv.DictReader(data)\n",
    "    for row in reader:\n",
    "        if row['Country'] == 'India':\n",
    "            city.append(row[\"City\"])\n",
    "            casualty.append([row['Killed'],row['Wounded']])\n",
    "                \n",
    "npcasualty=np.array(casualty)\n",
    "npcity=np.array(city)\n",
    "npcasualty[npcasualty=='']=0\n",
    "npcasualty = np.array(npcasualty, dtype=float)\n",
    "npcasualty = np.sum(npcasualty,axis=1)\n",
    "\n",
    "def cityCasualty(cityarr,casualtyarr):\n",
    "    arr = []\n",
    "    unique=np.unique(cityarr)\n",
    "    for i in unique:\n",
    "        index,=np.where(cityarr==i)\n",
    "        sumCasualty = casualtyarr[index].sum()\n",
    "        arr.append([sumCasualty,i])\n",
    "    arr.sort(reverse=True)\n",
    "    return arr\n",
    "arr = cityCasualty(npcity,npcasualty)\n",
    "for i in range(6):\n",
    "    if arr[i][1] != 'Unknown':\n",
    "        print(arr[i][1],int(arr[i][0]))"
   ]
  },
  {
   "cell_type": "markdown",
   "id": "37514cfa",
   "metadata": {},
   "source": [
    "# Terrorism FrequentDay\n",
    "Problem Statement :\n",
    "Find the most frequent day of attack in a terrorismDataset ?\n",
    "Note: Here np.unique can be used.\n",
    "Print count of frequent day and number of attack as Integer value.\n",
    "Output Format :\n",
    "Day NumberOFAttack"
   ]
  },
  {
   "cell_type": "code",
   "execution_count": 12,
   "id": "c9552fd0",
   "metadata": {},
   "outputs": [
    {
     "name": "stdout",
     "output_type": "stream",
     "text": [
      "15 6500\n"
     ]
    }
   ],
   "source": [
    "import csv\n",
    "import numpy as np\n",
    "\n",
    "with open('terrorismData.csv',encoding='ISO-8859-1') as file_obj:\n",
    "    file_data=csv.DictReader(file_obj,skipinitialspace=True)\n",
    "    \n",
    "    l=[]\n",
    "    \n",
    "    for row in file_data:\n",
    "        l.append(row['Day'])\n",
    "        \n",
    "    d={}\n",
    "    \n",
    "    for i in l:\n",
    "        if i in d:\n",
    "            d[i]+=1\n",
    "        else:\n",
    "            d[i]=1\n",
    "    \n",
    "    l1=[]\n",
    "    l2=[]\n",
    "    \n",
    "    for i in d:\n",
    "        l1.append(i)\n",
    "        l2.append(d[i])\n",
    "        \n",
    "    np_day=np.array(l1)\n",
    "    np_noa=np.array(l2)\n",
    "    \n",
    "    np_day=np_day[np.argsort(np_noa)]\n",
    "    np_noa=np.sort(np_noa)\n",
    "    \n",
    "    print(np_day[len(np_day)-1],np_noa[len(np_noa)-1])"
   ]
  },
  {
   "cell_type": "code",
   "execution_count": null,
   "id": "53894462",
   "metadata": {},
   "outputs": [],
   "source": []
  }
 ],
 "metadata": {
  "kernelspec": {
   "display_name": "Python 3 (ipykernel)",
   "language": "python",
   "name": "python3"
  },
  "language_info": {
   "codemirror_mode": {
    "name": "ipython",
    "version": 3
   },
   "file_extension": ".py",
   "mimetype": "text/x-python",
   "name": "python",
   "nbconvert_exporter": "python",
   "pygments_lexer": "ipython3",
   "version": "3.8.5"
  }
 },
 "nbformat": 4,
 "nbformat_minor": 5
}
